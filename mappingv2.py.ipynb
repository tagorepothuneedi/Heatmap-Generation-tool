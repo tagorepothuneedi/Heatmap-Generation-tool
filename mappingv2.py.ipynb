{
 "cells": [
  {
   "cell_type": "code",
   "execution_count": 1,
   "metadata": {},
   "outputs": [],
   "source": [
    "from __future__ import division\n",
    "\n",
    "#import tabular as tb\n",
    "import numpy as np\n",
    "import matplotlib.mlab as ml\n",
    "import matplotlib.pyplot as pp\n",
    "import matplotlib.cm as cm\n",
    "from mpl_toolkits.axes_grid1 import AxesGrid\n",
    "from scipy.interpolate import Rbf\n",
    "from pylab import imread, imshow\n",
    "import matplotlib\n",
    "import statistics\n",
    "layout = imread('/Users/tagore_pothuneedi/Desktop/map.png')\n",
    "\n",
    "a={}\n",
    "sta_loc={\"sta1\":(83,1239),\"sta2\":(1174,1237),\"sta3\":(1936,1258),\"sta4\":(356,954),\"sta5\":(578,855),\"sta6\":(1448,970),\"sta7\":(154,519),\"sta8\":(1653,495),\"sta9\":(107,197),\"sta10\":(1004,183),\"sta11\":(1955,212)}\n",
    "\n",
    "\n",
    "image_width= len(layout[0])\n",
    "image_height= len(layout) - 1\n",
    "\n",
    "num_x = int(image_width / 4)\n",
    "num_y = int(num_x / (image_width / image_height))\n",
    "#print()\"Resolution: %0.2f x %0.2f\" % (num_x, num_y)\n",
    "\n",
    "x = np.linspace(0,image_width, num_x)\n",
    "\n",
    "y = np.linspace(0,image_height, num_y)\n",
    "\n",
    "gx, gy = np.meshgrid(x, y)\n",
    "gx, gy = gx.flatten(), gy.flatten()\n",
    "\n",
    "levels = [-85, -80, -75, -70, -65, -60, -55, -50, -45, -40, -35, -30, -25]\n",
    "\n",
    "interpolate = True\n"
   ]
  },
  {
   "cell_type": "code",
   "execution_count": 2,
   "metadata": {},
   "outputs": [],
   "source": [
    "##Data grouping from different logs of stations\n",
    "data={}\n",
    "for num in range(1,12):\n",
    "    file=open('/Users/tagore_pothuneedi/testv1/test_logs/192.168.0.186_sta{}_2020-06-22_1592870286.log'.format(num),'r')\n",
    "    op=file.read()\n",
    "    op=op.strip()\n",
    "    op=op.split('\\n')\n",
    "    ## station mac:op[0][8:25]\n",
    "    ## signal level: op[1][11:17]\n",
    "    i=0\n",
    "    a={}\n",
    "    for item in op:\n",
    "        if i%3==0:\n",
    "            key=item[8:25]\n",
    "            a[key]=op[i+1][11:14]\n",
    "            i+=1\n",
    "        else:\n",
    "            i+=1\n",
    "            continue\n",
    "    data['sta{}'.format(num)]=a\n",
    "    #data.append(a)\n",
    "#data"
   ]
  },
  {
   "cell_type": "code",
   "execution_count": null,
   "metadata": {},
   "outputs": [],
   "source": []
  },
  {
   "cell_type": "code",
   "execution_count": 3,
   "metadata": {},
   "outputs": [
    {
     "data": {
      "text/plain": [
       "{'06:20:62:c8:24:14',\n",
       " '2e:12:76:00:ee:f7',\n",
       " '2e:b9:2a:d2:a8:32',\n",
       " '36:50:f8:ba:82:69',\n",
       " '3e:4d:c3:d2:1b:79',\n",
       " '6a:3b:09:36:b2:bb',\n",
       " '6e:b7:7f:42:cd:88',\n",
       " '86:4f:55:f5:91:49',\n",
       " 'c6:e1:6d:cc:a1:d7',\n",
       " 'ee:56:82:17:82:c2',\n",
       " 'f2:30:7a:99:42:b4'}"
      ]
     },
     "execution_count": 3,
     "metadata": {},
     "output_type": "execute_result"
    }
   ],
   "source": [
    "## MAC addr of stations detected in the mesh\n",
    "sta_dec=set()\n",
    "for station in data:\n",
    "    for values in data[station].keys():\n",
    "        sta_dec.add(values)\n",
    "sta_dec"
   ]
  },
  {
   "cell_type": "code",
   "execution_count": 4,
   "metadata": {},
   "outputs": [],
   "source": [
    "## signal from different station at location\n",
    "a={}\n",
    "for i,j in zip(sta_loc.values(),data.values()):\n",
    "     a[i]=j"
   ]
  },
  {
   "cell_type": "code",
   "execution_count": 5,
   "metadata": {},
   "outputs": [],
   "source": [
    "## a.keys() -- all x,y\n",
    "## a[(83, 1239)] -- gives rssi at x,y"
   ]
  },
  {
   "cell_type": "code",
   "execution_count": 6,
   "metadata": {},
   "outputs": [],
   "source": [
    "locx=[]\n",
    "locy=[]\n",
    "for value in sta_loc.values():\n",
    "    locx.append(value[0])\n",
    "    locy.append(value[1])"
   ]
  },
  {
   "cell_type": "code",
   "execution_count": 7,
   "metadata": {},
   "outputs": [
    {
     "data": {
      "text/plain": [
       "{(83, 1239): {'ee:56:82:17:82:c2': '-71',\n",
       "  '2e:12:76:00:ee:f7': '-70',\n",
       "  'c6:e1:6d:cc:a1:d7': '-77',\n",
       "  '6e:b7:7f:42:cd:88': '-64',\n",
       "  '36:50:f8:ba:82:69': '-78',\n",
       "  '06:20:62:c8:24:14': '-68',\n",
       "  '2e:b9:2a:d2:a8:32': '-64',\n",
       "  '86:4f:55:f5:91:49': '-68',\n",
       "  'f2:30:7a:99:42:b4': '-55',\n",
       "  '6a:3b:09:36:b2:bb': '-61'},\n",
       " (1174, 1237): {'ee:56:82:17:82:c2': '-65',\n",
       "  '3e:4d:c3:d2:1b:79': '-64',\n",
       "  '2e:12:76:00:ee:f7': '-68',\n",
       "  'c6:e1:6d:cc:a1:d7': '-71',\n",
       "  '6e:b7:7f:42:cd:88': '-67',\n",
       "  '36:50:f8:ba:82:69': '-74',\n",
       "  '06:20:62:c8:24:14': '-55',\n",
       "  '86:4f:55:f5:91:49': '-70',\n",
       "  'f2:30:7a:99:42:b4': '-60',\n",
       "  '6a:3b:09:36:b2:bb': '-58'},\n",
       " (1936, 1258): {'ee:56:82:17:82:c2': '-69',\n",
       "  '3e:4d:c3:d2:1b:79': '-77',\n",
       "  '2e:12:76:00:ee:f7': '-74',\n",
       "  '6e:b7:7f:42:cd:88': '-77',\n",
       "  '36:50:f8:ba:82:69': '-65',\n",
       "  '06:20:62:c8:24:14': '-68',\n",
       "  '2e:b9:2a:d2:a8:32': '-71',\n",
       "  '86:4f:55:f5:91:49': '-78',\n",
       "  'f2:30:7a:99:42:b4': '-75',\n",
       "  '6a:3b:09:36:b2:bb': '-74'},\n",
       " (356, 954): {'ee:56:82:17:82:c2': '-67',\n",
       "  '3e:4d:c3:d2:1b:79': '-55',\n",
       "  '2e:12:76:00:ee:f7': '-65',\n",
       "  'c6:e1:6d:cc:a1:d7': '-75',\n",
       "  '6e:b7:7f:42:cd:88': '-59',\n",
       "  '36:50:f8:ba:82:69': '-76',\n",
       "  '06:20:62:c8:24:14': '-64',\n",
       "  '2e:b9:2a:d2:a8:32': '-60',\n",
       "  '86:4f:55:f5:91:49': '-64',\n",
       "  '6a:3b:09:36:b2:bb': '-47'},\n",
       " (578, 855): {'ee:56:82:17:82:c2': '-64',\n",
       "  '3e:4d:c3:d2:1b:79': '-61',\n",
       "  '2e:12:76:00:ee:f7': '-63',\n",
       "  'c6:e1:6d:cc:a1:d7': '-74',\n",
       "  '6e:b7:7f:42:cd:88': '-59',\n",
       "  '36:50:f8:ba:82:69': '-74',\n",
       "  '06:20:62:c8:24:14': '-60',\n",
       "  '2e:b9:2a:d2:a8:32': '-58',\n",
       "  '86:4f:55:f5:91:49': '-64',\n",
       "  'f2:30:7a:99:42:b4': '-47'},\n",
       " (1448, 970): {'ee:56:82:17:82:c2': '-58',\n",
       "  '3e:4d:c3:d2:1b:79': '-68',\n",
       "  '2e:12:76:00:ee:f7': '-65',\n",
       "  'c6:e1:6d:cc:a1:d7': '-68',\n",
       "  '6e:b7:7f:42:cd:88': '-68',\n",
       "  '36:50:f8:ba:82:69': '-70',\n",
       "  '2e:b9:2a:d2:a8:32': '-55',\n",
       "  '86:4f:55:f5:91:49': '-70',\n",
       "  'f2:30:7a:99:42:b4': '-64',\n",
       "  '6a:3b:09:36:b2:bb': '-60'},\n",
       " (154, 519): {'ee:56:82:17:82:c2': '-68',\n",
       "  '3e:4d:c3:d2:1b:79': '-64',\n",
       "  '2e:12:76:00:ee:f7': '-61',\n",
       "  'c6:e1:6d:cc:a1:d7': '-77',\n",
       "  '36:50:f8:ba:82:69': '-76',\n",
       "  '06:20:62:c8:24:14': '-68',\n",
       "  '2e:b9:2a:d2:a8:32': '-67',\n",
       "  '86:4f:55:f5:91:49': '-51',\n",
       "  'f2:30:7a:99:42:b4': '-59',\n",
       "  '6a:3b:09:36:b2:bb': '-59'},\n",
       " (1653, 495): {'3e:4d:c3:d2:1b:79': '-71',\n",
       "  '2e:12:76:00:ee:f7': '-60',\n",
       "  'c6:e1:6d:cc:a1:d7': '-69',\n",
       "  '6e:b7:7f:42:cd:88': '-68',\n",
       "  '36:50:f8:ba:82:69': '-67',\n",
       "  '06:20:62:c8:24:14': '-58',\n",
       "  '2e:b9:2a:d2:a8:32': '-65',\n",
       "  '86:4f:55:f5:91:49': '-69',\n",
       "  'f2:30:7a:99:42:b4': '-67',\n",
       "  '6a:3b:09:36:b2:bb': '-64'},\n",
       " (107, 197): {'ee:56:82:17:82:c2': '-69',\n",
       "  '3e:4d:c3:d2:1b:79': '-68',\n",
       "  '2e:12:76:00:ee:f7': '-61',\n",
       "  'c6:e1:6d:cc:a1:d7': '-78',\n",
       "  '6e:b7:7f:42:cd:88': '-51',\n",
       "  '36:50:f8:ba:82:69': '-76',\n",
       "  '06:20:62:c8:24:14': '-70',\n",
       "  '2e:b9:2a:d2:a8:32': '-70',\n",
       "  'f2:30:7a:99:42:b4': '-64',\n",
       "  '6a:3b:09:36:b2:bb': '-64'},\n",
       " (1004, 183): {'ee:56:82:17:82:c2': '-60',\n",
       "  '3e:4d:c3:d2:1b:79': '-70',\n",
       "  'c6:e1:6d:cc:a1:d7': '-74',\n",
       "  '6e:b7:7f:42:cd:88': '-61',\n",
       "  '36:50:f8:ba:82:69': '-72',\n",
       "  '06:20:62:c8:24:14': '-65',\n",
       "  '2e:b9:2a:d2:a8:32': '-68',\n",
       "  '86:4f:55:f5:91:49': '-61',\n",
       "  'f2:30:7a:99:42:b4': '-65',\n",
       "  '6a:3b:09:36:b2:bb': '-63'},\n",
       " (1955, 212): {'ee:56:82:17:82:c2': '-67',\n",
       "  '3e:4d:c3:d2:1b:79': '-78',\n",
       "  '2e:12:76:00:ee:f7': '-72',\n",
       "  'c6:e1:6d:cc:a1:d7': '-65',\n",
       "  '6e:b7:7f:42:cd:88': '-76',\n",
       "  '06:20:62:c8:24:14': '-70',\n",
       "  '2e:b9:2a:d2:a8:32': '-74',\n",
       "  '86:4f:55:f5:91:49': '-76',\n",
       "  'f2:30:7a:99:42:b4': '-76',\n",
       "  '6a:3b:09:36:b2:bb': '-74'}}"
      ]
     },
     "execution_count": 7,
     "metadata": {},
     "output_type": "execute_result"
    }
   ],
   "source": [
    "a"
   ]
  },
  {
   "cell_type": "code",
   "execution_count": null,
   "metadata": {},
   "outputs": [],
   "source": []
  },
  {
   "cell_type": "code",
   "execution_count": null,
   "metadata": {},
   "outputs": [],
   "source": []
  },
  {
   "cell_type": "code",
   "execution_count": null,
   "metadata": {},
   "outputs": [],
   "source": []
  },
  {
   "cell_type": "code",
   "execution_count": null,
   "metadata": {},
   "outputs": [],
   "source": []
  },
  {
   "cell_type": "code",
   "execution_count": null,
   "metadata": {},
   "outputs": [],
   "source": [
    "\n",
    "\n"
   ]
  },
  {
   "cell_type": "code",
   "execution_count": null,
   "metadata": {},
   "outputs": [],
   "source": []
  },
  {
   "cell_type": "code",
   "execution_count": null,
   "metadata": {},
   "outputs": [],
   "source": []
  },
  {
   "cell_type": "code",
   "execution_count": null,
   "metadata": {},
   "outputs": [],
   "source": []
  },
  {
   "cell_type": "code",
   "execution_count": null,
   "metadata": {},
   "outputs": [],
   "source": []
  },
  {
   "cell_type": "code",
   "execution_count": null,
   "metadata": {},
   "outputs": [],
   "source": []
  },
  {
   "cell_type": "code",
   "execution_count": 11,
   "metadata": {},
   "outputs": [],
   "source": [
    "def max_plot():\n",
    "    # Get the maximum RSSI seen for each beacon\n",
    "# rssi_mac=[]\n",
    "# for loc in a.keys():\n",
    "#     try:\n",
    "#         rssi_mac.append(a[loc][sta_dec])\n",
    "#     except:\n",
    "#         rssi_mac.append('0')\n",
    "#         continue\n",
    "    res=[]\n",
    "    for station in sta_dec:\n",
    "        temp=[]\n",
    "        for loc in a.keys():\n",
    "            try:\n",
    "                temp.append(int(a[loc][station]))\n",
    "            except:\n",
    "                temp.append(0)\n",
    "                continue\n",
    "        #print(temp)\n",
    "        res.append(statistics.mean(temp))\n",
    "    #rssi_mac\n",
    "    pp.title(\"Mean RSSI Heat Map\")\n",
    "\n",
    "    if interpolate:\n",
    "        # Interpolate the data\n",
    "        rbf = Rbf(locx, locy, res, function='linear')\n",
    "\n",
    "        z = rbf(gx, gy)\n",
    "        z = z.reshape((num_y, num_x))\n",
    "\n",
    "        # Render the interpolated data to the plot\n",
    "        # begin color mapping\n",
    "        norm = matplotlib.colors.Normalize(vmin=min(res), vmax=max(res), clip=True)\n",
    "        mapper = cm.ScalarMappable(norm=norm, cmap='RdYlBu_r')\n",
    "        # end color mapping\n",
    "        image = pp.imshow(z,extent=(0,image_width,image_height, 0),cmap='RdYlBu_r', alpha=0.5, zorder=100)\n",
    "    else:\n",
    "        z = ml.griddata(locx, locy ,res, x, y)\n",
    "\n",
    "        pp.contourf(x, y, z, levels, alpha=0.5)\n",
    "    \n",
    "    pp.colorbar(image)\n",
    "    pp.imshow(layout, interpolation='bicubic', zorder=1, alpha=1)\n",
    "\n",
    "    #pp.show()\n",
    "    print(res,locx,locy)"
   ]
  },
  {
   "cell_type": "code",
   "execution_count": 12,
   "metadata": {},
   "outputs": [
    {
     "name": "stdout",
     "output_type": "stream",
     "text": [
      "[-59.81818181818182, -61, -57.45454545454545, -61.45454545454545, -66.18181818181819, -59.90909090909091, -58.72727272727273, -59.27272727272727, -56.72727272727273, -66.18181818181819, -59.09090909090909] [83, 1174, 1936, 356, 578, 1448, 154, 1653, 107, 1004, 1955] [1239, 1237, 1258, 954, 855, 970, 519, 495, 197, 183, 212]\n"
     ]
    },
    {
     "data": {
      "image/png": "[encoded data removed]",
      "text/plain": [
       "<Figure size 432x288 with 2 Axes>"
      ]
     },
     "metadata": {
      "needs_background": "light"
     },
     "output_type": "display_data"
    }
   ],
   "source": [
    "max_plot()"
   ]
  },
  {
   "cell_type": "code",
   "execution_count": null,
   "metadata": {},
   "outputs": [],
   "source": []
  },
  {
   "cell_type": "code",
   "execution_count": null,
   "metadata": {},
   "outputs": [],
   "source": []
  },
  {
   "cell_type": "code",
   "execution_count": null,
   "metadata": {},
   "outputs": [],
   "source": []
  },
  {
   "cell_type": "code",
   "execution_count": null,
   "metadata": {},
   "outputs": [],
   "source": []
  },
  {
   "cell_type": "code",
   "execution_count": null,
   "metadata": {},
   "outputs": [],
   "source": []
  }
 ],
 "metadata": {
  "kernelspec": {
   "display_name": "Python 3",
   "language": "python",
   "name": "python3"
  },
  "language_info": {
   "codemirror_mode": {
    "name": "ipython",
    "version": 3
   },
   "file_extension": ".py",
   "mimetype": "text/x-python",
   "name": "python",
   "nbconvert_exporter": "python",
   "pygments_lexer": "ipython3",
   "version": "3.7.4"
  }
 },
 "nbformat": 4,
 "nbformat_minor": 2
}
